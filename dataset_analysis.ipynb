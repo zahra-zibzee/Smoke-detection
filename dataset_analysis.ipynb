{
 "cells": [
  {
   "cell_type": "code",
   "execution_count": 1,
   "metadata": {},
   "outputs": [],
   "source": [
    "import numpy as np\n",
    "import pandas as pd\n",
    "import matplotlib.pyplot as plt\n",
    "import torch  \n",
    "from roboflow import Roboflow\n",
    "import os"
   ]
  },
  {
   "cell_type": "markdown",
   "metadata": {},
   "source": [
    "#### Dataset downloading"
   ]
  },
  {
   "cell_type": "code",
   "execution_count": 3,
   "metadata": {},
   "outputs": [
    {
     "name": "stdout",
     "output_type": "stream",
     "text": [
      "loading Roboflow workspace...\n",
      "loading Roboflow project...\n",
      "[WARNING] we noticed you are downloading a `yolov8` datasets but you don't have `ultralytics` installed. Roboflow `.deploy` supports only models trained with `ultralytics==8.0.196`, to intall it `pip install ultralytics==8.0.196`.\n"
     ]
    },
    {
     "name": "stderr",
     "output_type": "stream",
     "text": [
      "Downloading Dataset Version Zip in Smoke100-4 to yolov8:: 100%|██████████| 860654/860654 [01:12<00:00, 11807.37it/s]"
     ]
    },
    {
     "name": "stdout",
     "output_type": "stream",
     "text": [
      "\n"
     ]
    },
    {
     "name": "stderr",
     "output_type": "stream",
     "text": [
      "\n",
      "Extracting Dataset Version Zip to Smoke100-4 in yolov8:: 100%|██████████| 43168/43168 [00:03<00:00, 12125.87it/s]\n"
     ]
    }
   ],
   "source": [
    "rf = Roboflow(api_key=\"IHlJEu1a2ySueuQG2jTS\")\n",
    "project = rf.workspace(\"smoke-detection\").project(\"smoke100-uwe4t\")\n",
    "version = project.version(4)\n",
    "dataset = version.download(\"yolov8\")"
   ]
  },
  {
   "cell_type": "markdown",
   "metadata": {},
   "source": [
    "#### Number of dataset for test, train and valid"
   ]
  },
  {
   "cell_type": "code",
   "execution_count": 2,
   "metadata": {},
   "outputs": [
    {
     "name": "stdout",
     "output_type": "stream",
     "text": [
      "Number of images in each dataset\n",
      "train   15096\n",
      "valid   4322\n",
      "test   2160\n",
      "\n",
      "Percentage of images in each dataset\n",
      "train   69.96014459171379\n",
      "valid   20.02965983872463\n",
      "test   10.01019556956159\n"
     ]
    }
   ],
   "source": [
    "main_dir_path = r'./smoke100-4'\n",
    "folder_names = ['train', 'valid', 'test']\n",
    "dataset_dict = {}\n",
    "\n",
    "print('Number of images in each dataset')\n",
    "for folder in folder_names:\n",
    "    count = 0\n",
    "    dir = main_dir_path + '/' + folder + '/images'\n",
    "    # iterate the directory\n",
    "    for path in os.listdir(dir):\n",
    "        # check if current path is a file\n",
    "        if os.path.isfile(os.path.join(dir, path)):\n",
    "            count += 1\n",
    "    dataset_dict[folder] = count\n",
    "    print(folder, ' ', dataset_dict[folder])\n",
    "\n",
    "print()\n",
    "print('Percentage of images in each dataset')\n",
    "# percentage of train, test, valid\n",
    "for dataset in folder_names:\n",
    "    print(dataset, ' ', (dataset_dict[dataset] / sum(dataset_dict.values()))*100)"
   ]
  },
  {
   "cell_type": "code",
   "execution_count": null,
   "metadata": {},
   "outputs": [],
   "source": []
  }
 ],
 "metadata": {
  "kernelspec": {
   "display_name": "venv",
   "language": "python",
   "name": "python3"
  },
  "language_info": {
   "codemirror_mode": {
    "name": "ipython",
    "version": 3
   },
   "file_extension": ".py",
   "mimetype": "text/x-python",
   "name": "python",
   "nbconvert_exporter": "python",
   "pygments_lexer": "ipython3",
   "version": "3.11.9"
  }
 },
 "nbformat": 4,
 "nbformat_minor": 2
}
